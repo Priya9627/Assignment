{
 "cells": [
  {
   "cell_type": "code",
   "execution_count": 12,
   "id": "ddd985bf",
   "metadata": {},
   "outputs": [
    {
     "name": "stdout",
     "output_type": "stream",
     "text": [
      "Name: John\n",
      "Age: 18\n",
      "Grade: A\n"
     ]
    }
   ],
   "source": [
    "# 1.  Solutions \n",
    "class Student:\n",
    "    def _init_(self, name, age, grade):\n",
    "        self.name = name\n",
    "        self.age = age\n",
    "        self.grade = grade\n",
    "\n",
    "# Create an instance of the Student class and set its attributes\n",
    "student1 = Student(\"John\", 18, \"A\")\n",
    "\n",
    "# Print the attributes of the student object\n",
    "print(\"Name:\", student1.name)\n",
    "print(\"Age:\", student1.age)\n",
    "print(\"Grade:\", student1.grade)Solutions \n",
    "class Student:\n",
    "    def __init__(self, name, age, grade):\n",
    "        self.name = name\n",
    "        self.age = age\n",
    "        self.grade = grade\n",
    "\n",
    "# Create an instance of the Student class and set its attributes\n",
    "student1 = Student(\"John\", 18, \"A\")\n",
    "\n",
    "# Print the attributes of the student object\n",
    "print(\"Name:\", student1.name)\n",
    "print(\"Age:\", student1.age)\n",
    "print(\"Grade:\", student1.grade)\n"
   ]
  },
  {
   "cell_type": "code",
   "execution_count": 16,
   "id": "d757979e",
   "metadata": {},
   "outputs": [
    {
     "name": "stdout",
     "output_type": "stream",
     "text": [
      "John is not passing.\n"
     ]
    }
   ],
   "source": [
    "#2.\n",
    "class Student:\n",
    "    def __init__(self, name, age, grade):\n",
    "        self.name = name\n",
    "        self.age = age\n",
    "        self.grade = grade\n",
    "\n",
    "    def is_passing(self):\n",
    "        return self.grade >= 50\n",
    "\n",
    "# Create an instance of the Student class and set its attributes\n",
    "student1 = Student(\"John\", 18, 45)\n",
    "\n",
    "# Check if the student is passing and display the result\n",
    "if student1.is_passing():\n",
    "    print(f\"{student1.name} is passing.\")\n",
    "else:\n",
    "    print(f\"{student1.name} is not passing.\")\n"
   ]
  },
  {
   "cell_type": "code",
   "execution_count": 17,
   "id": "9ac27907",
   "metadata": {},
   "outputs": [
    {
     "name": "stdout",
     "output_type": "stream",
     "text": [
      "Name: John\n",
      "Age: 18\n",
      "Grade: 65\n",
      "School Name: High School XYZ\n"
     ]
    }
   ],
   "source": [
    "3.#\n",
    "class Student:\n",
    "    def __init__(self, name, age, grade):\n",
    "        self.name = name\n",
    "        self.age = age\n",
    "        self.grade = grade\n",
    "\n",
    "    def is_passing(self):\n",
    "        return self.grade >= 50\n",
    "\n",
    "class HighSchoolStudent(Student):\n",
    "    def __init__(self, name, age, grade, school_name):\n",
    "        super().__init__(name, age, grade)\n",
    "        self.school_name = school_name\n",
    "\n",
    "# Create an instance of the HighSchoolStudent class and set its attributes\n",
    "high_school_student = HighSchoolStudent(\"John\", 18, 65, \"High School XYZ\")\n",
    "\n",
    "# Print all the attributes of the high school student\n",
    "print(\"Name:\", high_school_student.name)\n",
    "print(\"Age:\", high_school_student.age)\n",
    "print(\"Grade:\", high_school_student.grade)\n",
    "print(\"School Name:\", high_school_student.school_name)\n",
    "\n"
   ]
  },
  {
   "cell_type": "code",
   "execution_count": 4,
   "id": "abaa9903",
   "metadata": {},
   "outputs": [
    {
     "name": "stdout",
     "output_type": "stream",
     "text": [
      "area1\n",
      "area2\n"
     ]
    }
   ],
   "source": [
    "4.#\n",
    "def calculate_rectangle_area(length, width):\n",
    "    return length * width\n",
    "\n",
    "# Example usage:\n",
    "length1 = 5\n",
    "width1 = 3\n",
    "area1 = calculate_rectangle_area(length1, width1)\n",
    "print(\"area1\")\n",
    "\n",
    "length2 = 7\n",
    "width2 = 4\n",
    "area2 = calculate_rectangle_area(length2, width2)\n",
    "print(\"area2\")"
   ]
  },
  {
   "cell_type": "code",
   "execution_count": 5,
   "id": "e0368ebe",
   "metadata": {},
   "outputs": [
    {
     "name": "stdout",
     "output_type": "stream",
     "text": [
      "Hello, John!\n",
      "Hi there, Alice!\n"
     ]
    }
   ],
   "source": [
    "5.#\n",
    "def greet(name, greeting=\"Hello\"):\n",
    "    return f\"{greeting}, {name}!\"\n",
    "\n",
    "# Test the function with and without the optional parameter\n",
    "name1 = \"John\"\n",
    "greeting1 = greet(name1)\n",
    "print(greeting1)\n",
    "\n",
    "name2 = \"Alice\"\n",
    "greeting2 = greet(name2, \"Hi there\")\n",
    "print(greeting2)"
   ]
  },
  {
   "cell_type": "code",
   "execution_count": 6,
   "id": "50db2746",
   "metadata": {},
   "outputs": [
    {
     "name": "stdout",
     "output_type": "stream",
     "text": [
      "The average of the numbers is: 12.5\n"
     ]
    }
   ],
   "source": [
    "6.#\n",
    "def calculate_average(*numbers):\n",
    "    if not numbers:\n",
    "        return 0\n",
    "    return sum(numbers) / len(numbers)\n",
    "\n",
    "# Test the function with the numbers 5, 10, 15, and 20\n",
    "average = calculate_average(5, 10, 15, 20)\n",
    "print(f\"The average of the numbers is: {average}\")"
   ]
  },
  {
   "cell_type": "code",
   "execution_count": null,
   "id": "33b6fc21",
   "metadata": {},
   "outputs": [],
   "source": []
  }
 ],
 "metadata": {
  "kernelspec": {
   "display_name": "Python 3 (ipykernel)",
   "language": "python",
   "name": "python3"
  },
  "language_info": {
   "codemirror_mode": {
    "name": "ipython",
    "version": 3
   },
   "file_extension": ".py",
   "mimetype": "text/x-python",
   "name": "python",
   "nbconvert_exporter": "python",
   "pygments_lexer": "ipython3",
   "version": "3.11.4"
  }
 },
 "nbformat": 4,
 "nbformat_minor": 5
}
